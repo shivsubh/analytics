{
 "cells": [
  {
   "cell_type": "code",
   "execution_count": 1,
   "id": "d636dc19-caf6-4b3a-9e23-dbd9f878a1cd",
   "metadata": {},
   "outputs": [],
   "source": [
    "dictionary = {}"
   ]
  },
  {
   "cell_type": "code",
   "execution_count": 2,
   "id": "b7988313-6205-42e2-baf1-0af5583d30ee",
   "metadata": {},
   "outputs": [],
   "source": [
    "dictionary['key'] = 'value'"
   ]
  },
  {
   "cell_type": "code",
   "execution_count": 3,
   "id": "1f4b7d46-1a25-44e6-8e9b-2fcc88740ae8",
   "metadata": {},
   "outputs": [
    {
     "data": {
      "text/plain": [
       "{'key': 'value'}"
      ]
     },
     "execution_count": 3,
     "metadata": {},
     "output_type": "execute_result"
    }
   ],
   "source": [
    "dictionary"
   ]
  },
  {
   "cell_type": "code",
   "execution_count": 4,
   "id": "73164201-2bcb-42de-b890-d0b8fcdaadd8",
   "metadata": {},
   "outputs": [],
   "source": [
    "ls = [1,2,3,4]"
   ]
  },
  {
   "cell_type": "code",
   "execution_count": 5,
   "id": "a00681d6-d426-41c0-a956-a69b4498d7f2",
   "metadata": {},
   "outputs": [],
   "source": [
    "dictionary['ls'] = ls"
   ]
  },
  {
   "cell_type": "code",
   "execution_count": 6,
   "id": "cdce1607-7b6d-49b2-b5c6-751adb3c2a5f",
   "metadata": {},
   "outputs": [],
   "source": [
    "dictionary.update({'ls': ls})"
   ]
  },
  {
   "cell_type": "code",
   "execution_count": 8,
   "id": "e28ba512-f64e-4571-be0f-8920b0944a09",
   "metadata": {},
   "outputs": [
    {
     "data": {
      "text/plain": [
       "{'key': 'value', 'ls': [1, 2, 3, 4]}"
      ]
     },
     "execution_count": 8,
     "metadata": {},
     "output_type": "execute_result"
    }
   ],
   "source": [
    "dictionary"
   ]
  },
  {
   "cell_type": "code",
   "execution_count": 9,
   "id": "9b9206fa-faa7-4095-b08e-ae0486599166",
   "metadata": {},
   "outputs": [],
   "source": [
    "ls.append(5)"
   ]
  },
  {
   "cell_type": "code",
   "execution_count": 10,
   "id": "640989dd-076d-4ead-b2b2-df6111c6e7a3",
   "metadata": {},
   "outputs": [
    {
     "data": {
      "text/plain": [
       "[1, 2, 3, 4, 5]"
      ]
     },
     "execution_count": 10,
     "metadata": {},
     "output_type": "execute_result"
    }
   ],
   "source": [
    "ls"
   ]
  },
  {
   "cell_type": "code",
   "execution_count": 11,
   "id": "3eac6dfa-19c9-46aa-a228-258dadc4cd57",
   "metadata": {},
   "outputs": [
    {
     "data": {
      "text/plain": [
       "{'key': 'value', 'ls': [1, 2, 3, 4, 5]}"
      ]
     },
     "execution_count": 11,
     "metadata": {},
     "output_type": "execute_result"
    }
   ],
   "source": [
    "dictionary"
   ]
  },
  {
   "cell_type": "code",
   "execution_count": 12,
   "id": "0f3aab19-b5d7-40cf-9509-82046ebf788c",
   "metadata": {},
   "outputs": [],
   "source": [
    "from copy import deepcopy"
   ]
  },
  {
   "cell_type": "code",
   "execution_count": 13,
   "id": "970231ad-8f9e-4657-b3e2-0d1d7453a19b",
   "metadata": {},
   "outputs": [],
   "source": [
    "dictionary.update({'ls': deepcopy(ls)})"
   ]
  },
  {
   "cell_type": "code",
   "execution_count": 15,
   "id": "753c1e62-9078-4bff-b9f5-bec6113eb948",
   "metadata": {},
   "outputs": [
    {
     "data": {
      "text/plain": [
       "{'key': 'value', 'ls': [1, 2, 3, 4, 5]}"
      ]
     },
     "execution_count": 15,
     "metadata": {},
     "output_type": "execute_result"
    }
   ],
   "source": [
    "dictionary"
   ]
  },
  {
   "cell_type": "code",
   "execution_count": 16,
   "id": "143065fb-37b5-4355-8dc1-6e23d1a61667",
   "metadata": {},
   "outputs": [],
   "source": [
    "ls.append(6)"
   ]
  },
  {
   "cell_type": "code",
   "execution_count": 17,
   "id": "81d1d93c-d9b1-423c-9721-032567e69ba4",
   "metadata": {},
   "outputs": [
    {
     "data": {
      "text/plain": [
       "[1, 2, 3, 4, 5, 6]"
      ]
     },
     "execution_count": 17,
     "metadata": {},
     "output_type": "execute_result"
    }
   ],
   "source": [
    "ls"
   ]
  },
  {
   "cell_type": "code",
   "execution_count": 18,
   "id": "69475275-0279-4a8a-9861-4c766822e02d",
   "metadata": {},
   "outputs": [
    {
     "data": {
      "text/plain": [
       "{'key': 'value', 'ls': [1, 2, 3, 4, 5]}"
      ]
     },
     "execution_count": 18,
     "metadata": {},
     "output_type": "execute_result"
    }
   ],
   "source": [
    "dictionary"
   ]
  },
  {
   "cell_type": "code",
   "execution_count": 19,
   "id": "8a84e96d-36bd-4ee2-8376-04dbf643dec8",
   "metadata": {},
   "outputs": [
    {
     "data": {
      "text/plain": [
       "[1, 2, 3, 4, 5]"
      ]
     },
     "execution_count": 19,
     "metadata": {},
     "output_type": "execute_result"
    }
   ],
   "source": [
    "dictionary.setdefault('ls', [])"
   ]
  },
  {
   "cell_type": "code",
   "execution_count": 20,
   "id": "4e9c557a-d254-4744-b8af-57ba8ab875ec",
   "metadata": {},
   "outputs": [
    {
     "data": {
      "text/plain": [
       "{'key': 'value', 'ls': [1, 2, 3, 4, 5]}"
      ]
     },
     "execution_count": 20,
     "metadata": {},
     "output_type": "execute_result"
    }
   ],
   "source": [
    "dictionary"
   ]
  },
  {
   "cell_type": "code",
   "execution_count": 21,
   "id": "bb85f7c5-69e1-4ba1-8943-ab7024bba600",
   "metadata": {},
   "outputs": [
    {
     "data": {
      "text/plain": [
       "{'a': {'b': 'c'}}"
      ]
     },
     "execution_count": 21,
     "metadata": {},
     "output_type": "execute_result"
    }
   ],
   "source": [
    "{\n",
    "    'a': {\n",
    "        'b': 'c'\n",
    "    }\n",
    "}"
   ]
  },
  {
   "cell_type": "code",
   "execution_count": 22,
   "id": "62892968-79c1-4d97-b69a-408cedbe62e6",
   "metadata": {},
   "outputs": [
    {
     "data": {
      "text/plain": [
       "'c'"
      ]
     },
     "execution_count": 22,
     "metadata": {},
     "output_type": "execute_result"
    }
   ],
   "source": [
    "dictionary.setdefault('a', {}).setdefault('b', 'c')"
   ]
  },
  {
   "cell_type": "code",
   "execution_count": 23,
   "id": "d6b0883b-371f-418b-8022-02cdf45ad83a",
   "metadata": {},
   "outputs": [
    {
     "data": {
      "text/plain": [
       "{'key': 'value', 'ls': [1, 2, 3, 4, 5], 'a': {'b': 'c'}}"
      ]
     },
     "execution_count": 23,
     "metadata": {},
     "output_type": "execute_result"
    }
   ],
   "source": [
    "dictionary"
   ]
  },
  {
   "cell_type": "code",
   "execution_count": 24,
   "id": "1691ac0a-0e1a-4eec-a17c-24eb1ae00aca",
   "metadata": {},
   "outputs": [],
   "source": [
    "def setdefault(d, k, v):\n",
    "    if k in d:\n",
    "        return d\n",
    "    d[k] = v\n",
    "    return d"
   ]
  },
  {
   "cell_type": "code",
   "execution_count": 25,
   "id": "ee80deb2-ea16-41b8-a384-d487e20c30b5",
   "metadata": {},
   "outputs": [
    {
     "data": {
      "text/plain": [
       "dict_items([('key', 'value'), ('ls', [1, 2, 3, 4, 5]), ('a', {'b': 'c'})])"
      ]
     },
     "execution_count": 25,
     "metadata": {},
     "output_type": "execute_result"
    }
   ],
   "source": [
    "dictionary.items()"
   ]
  },
  {
   "cell_type": "code",
   "execution_count": 26,
   "id": "f8b86b1f-e57a-4846-82c4-634e4b29717e",
   "metadata": {},
   "outputs": [
    {
     "data": {
      "text/plain": [
       "dict_keys(['key', 'ls', 'a'])"
      ]
     },
     "execution_count": 26,
     "metadata": {},
     "output_type": "execute_result"
    }
   ],
   "source": [
    "dictionary.keys()"
   ]
  },
  {
   "cell_type": "code",
   "execution_count": 27,
   "id": "20cef179-735f-4b83-99d6-78cf2dc1324c",
   "metadata": {},
   "outputs": [
    {
     "data": {
      "text/plain": [
       "dict_values(['value', [1, 2, 3, 4, 5], {'b': 'c'}])"
      ]
     },
     "execution_count": 27,
     "metadata": {},
     "output_type": "execute_result"
    }
   ],
   "source": [
    "dictionary.values()"
   ]
  },
  {
   "cell_type": "code",
   "execution_count": 28,
   "id": "ac941dc3-f762-4983-a67a-4ac62dabd0ec",
   "metadata": {},
   "outputs": [
    {
     "data": {
      "text/plain": [
       "{'key': 'value', 'ls': [1, 2, 3, 4, 5], 'a': {'b': 'c'}}"
      ]
     },
     "execution_count": 28,
     "metadata": {},
     "output_type": "execute_result"
    }
   ],
   "source": [
    "dictionary"
   ]
  },
  {
   "cell_type": "code",
   "execution_count": 33,
   "id": "027dabc7-27be-4412-a8c7-c255b00a3df6",
   "metadata": {},
   "outputs": [],
   "source": [
    "value = dictionary.pop('key', None)"
   ]
  },
  {
   "cell_type": "code",
   "execution_count": 34,
   "id": "0d831e33-d424-4219-92a5-a86f44ed6179",
   "metadata": {},
   "outputs": [],
   "source": [
    "value"
   ]
  },
  {
   "cell_type": "code",
   "execution_count": 36,
   "id": "c6fe7e83-eb9a-4167-aeb3-198103f904ea",
   "metadata": {},
   "outputs": [
    {
     "data": {
      "text/plain": [
       "['ls', 'a']"
      ]
     },
     "execution_count": 36,
     "metadata": {},
     "output_type": "execute_result"
    }
   ],
   "source": [
    "list(dictionary.keys())"
   ]
  },
  {
   "cell_type": "code",
   "execution_count": 37,
   "id": "156e1431-49aa-4417-aabc-c5f5c4ee9574",
   "metadata": {},
   "outputs": [],
   "source": [
    "nd = {'key': 'shubham'}"
   ]
  },
  {
   "cell_type": "code",
   "execution_count": 38,
   "id": "ed9d9d27-9b90-4297-93db-b0f2f210459c",
   "metadata": {},
   "outputs": [
    {
     "data": {
      "text/plain": [
       "{'key': 'shubham'}"
      ]
     },
     "execution_count": 38,
     "metadata": {},
     "output_type": "execute_result"
    }
   ],
   "source": [
    "nd"
   ]
  },
  {
   "cell_type": "code",
   "execution_count": 39,
   "id": "766936fd-0f17-426d-9fc2-d6e61872c317",
   "metadata": {},
   "outputs": [],
   "source": [
    "d = {**dictionary, **nd}"
   ]
  },
  {
   "cell_type": "code",
   "execution_count": 40,
   "id": "b1a73d57-2444-4ac4-8c64-732bc9e3a8e2",
   "metadata": {},
   "outputs": [
    {
     "data": {
      "text/plain": [
       "{'ls': [1, 2, 3, 4, 5], 'a': {'b': 'c'}, 'key': 'shubham'}"
      ]
     },
     "execution_count": 40,
     "metadata": {},
     "output_type": "execute_result"
    }
   ],
   "source": [
    "d"
   ]
  },
  {
   "cell_type": "code",
   "execution_count": 49,
   "id": "3b3686a8-ab61-430b-8995-4ede48ea9e6b",
   "metadata": {},
   "outputs": [],
   "source": [
    "t = ('a', 'b')\n",
    "c = ('c', 'd')"
   ]
  },
  {
   "cell_type": "code",
   "execution_count": 50,
   "id": "5f4547ed-5552-4080-a72a-c679e0366981",
   "metadata": {},
   "outputs": [],
   "source": [
    "ls_with_t = [t, t, t, c]"
   ]
  },
  {
   "cell_type": "code",
   "execution_count": 51,
   "id": "01297551-f4e2-4e09-94e4-aaa850b34e70",
   "metadata": {},
   "outputs": [
    {
     "data": {
      "text/plain": [
       "[('a', 'b'), ('a', 'b'), ('a', 'b'), ('c', 'd')]"
      ]
     },
     "execution_count": 51,
     "metadata": {},
     "output_type": "execute_result"
    }
   ],
   "source": [
    "ls_with_t"
   ]
  },
  {
   "cell_type": "code",
   "execution_count": 52,
   "id": "4d16b216-3dd1-4e6a-b1ef-74304d63655f",
   "metadata": {},
   "outputs": [
    {
     "data": {
      "text/plain": [
       "{'a': 'b', 'c': 'd'}"
      ]
     },
     "execution_count": 52,
     "metadata": {},
     "output_type": "execute_result"
    }
   ],
   "source": [
    "dict(ls_with_t)"
   ]
  },
  {
   "cell_type": "code",
   "execution_count": 54,
   "id": "4fc3bede-9d4d-4f80-82de-60cc4879984f",
   "metadata": {},
   "outputs": [
    {
     "data": {
      "text/plain": [
       "[0, 1, 2, 3, 4]"
      ]
     },
     "execution_count": 54,
     "metadata": {},
     "output_type": "execute_result"
    }
   ],
   "source": [
    "list(range(5))"
   ]
  },
  {
   "cell_type": "code",
   "execution_count": 56,
   "id": "e272cf04-a6ad-405f-8e7c-a2ad5b0e282e",
   "metadata": {},
   "outputs": [
    {
     "data": {
      "text/plain": [
       "[4, 3, 2, 1, 0]"
      ]
     },
     "execution_count": 56,
     "metadata": {},
     "output_type": "execute_result"
    }
   ],
   "source": [
    "list(reversed(range(5)))"
   ]
  },
  {
   "cell_type": "code",
   "execution_count": 59,
   "id": "816c4451-bc9b-4b9b-8197-292a2940b409",
   "metadata": {},
   "outputs": [
    {
     "name": "stdout",
     "output_type": "stream",
     "text": [
      "[(0, 4), (1, 3), (2, 2), (3, 1), (4, 0)]\n"
     ]
    }
   ],
   "source": [
    "tuples = list(zip(list(range(5)), list(reversed(range(5)))))\n",
    "print(tuples)"
   ]
  },
  {
   "cell_type": "code",
   "execution_count": 61,
   "id": "547180de-54b4-4887-894e-1b60adbfccf6",
   "metadata": {},
   "outputs": [
    {
     "name": "stdout",
     "output_type": "stream",
     "text": [
      "{0: 4, 1: 3, 2: 2, 3: 1, 4: 0}\n"
     ]
    }
   ],
   "source": [
    "mappings = dict(tuples)\n",
    "print(mappings)"
   ]
  },
  {
   "cell_type": "code",
   "execution_count": 63,
   "id": "33c58656-975f-4b7c-82ad-59bda131148f",
   "metadata": {},
   "outputs": [
    {
     "data": {
      "text/plain": [
       "0"
      ]
     },
     "execution_count": 63,
     "metadata": {},
     "output_type": "execute_result"
    }
   ],
   "source": [
    "mappings.get('5', 0)"
   ]
  },
  {
   "cell_type": "code",
   "execution_count": 64,
   "id": "e4448c1c-06c3-4a20-bfdb-276a2c7675e1",
   "metadata": {},
   "outputs": [],
   "source": [
    "words = [\"apple\", \"bat\", \"bar\", \"atom\", \"book\"]"
   ]
  },
  {
   "cell_type": "code",
   "execution_count": 69,
   "id": "4055ff9c-eb50-4a08-9ec7-4bb1345b9217",
   "metadata": {},
   "outputs": [
    {
     "name": "stdout",
     "output_type": "stream",
     "text": [
      "{'a': ['apple', 'atom'], 'b': ['bat', 'bar', 'book']}\n"
     ]
    }
   ],
   "source": [
    "word_dict = {}\n",
    "\n",
    "for word in words:\n",
    "    first_letter = word[0]\n",
    "    if first_letter not in word_dict:\n",
    "        word_dict[first_letter] = [word]\n",
    "    else:\n",
    "        word_dict[first_letter].append(word)\n",
    "\n",
    "print(word_dict)"
   ]
  },
  {
   "cell_type": "code",
   "execution_count": 75,
   "id": "73f02e9c-18b8-4834-ad7b-7dc82ddf45d2",
   "metadata": {},
   "outputs": [
    {
     "name": "stdout",
     "output_type": "stream",
     "text": [
      "{'a': ['apple']}\n",
      "{'a': ['apple'], 'b': ['bat']}\n",
      "{'a': ['apple'], 'b': ['bat', 'bar']}\n",
      "{'a': ['apple', 'atom'], 'b': ['bat', 'bar']}\n",
      "{'a': ['apple', 'atom'], 'b': ['bat', 'bar', 'book']}\n",
      "{'a': ['apple', 'atom'], 'b': ['bat', 'bar', 'book']}\n"
     ]
    }
   ],
   "source": [
    "word_dict = {}\n",
    "\n",
    "for word in words:\n",
    "    first_letter = word[0]\n",
    "    word_dict.setdefault(first_letter, []).append(word)\n",
    "    print(word_dict)\n",
    "\n",
    "print(word_dict)"
   ]
  },
  {
   "cell_type": "code",
   "execution_count": 76,
   "id": "6a84745c-3f73-4626-b3ad-951add7181a2",
   "metadata": {},
   "outputs": [],
   "source": [
    "from collections import defaultdict"
   ]
  },
  {
   "cell_type": "code",
   "execution_count": 87,
   "id": "0382c00f-f887-43fd-976f-f892e4a96c79",
   "metadata": {},
   "outputs": [],
   "source": [
    "word_dict = defaultdict(list)"
   ]
  },
  {
   "cell_type": "code",
   "execution_count": 88,
   "id": "7553bfd5-d3f5-429b-aa2d-ecef5b97b6a9",
   "metadata": {},
   "outputs": [
    {
     "name": "stdout",
     "output_type": "stream",
     "text": [
      "{'a': ['apple', 'atom'], 'b': ['bat', 'bar', 'book']}\n"
     ]
    }
   ],
   "source": [
    "for word in words:\n",
    "    word_dict[word[0]].append(word)\n",
    "\n",
    "print(dict(word_dict))"
   ]
  },
  {
   "cell_type": "code",
   "execution_count": 89,
   "id": "fec625fb-f213-4ece-b195-97fa5ad73f8b",
   "metadata": {},
   "outputs": [],
   "source": [
    "d = {}"
   ]
  },
  {
   "cell_type": "code",
   "execution_count": 90,
   "id": "b594f878-d4c9-416a-b9f7-4d14f552fb2b",
   "metadata": {},
   "outputs": [],
   "source": [
    "d['s'] = 'string'\n",
    "d[1] = 2\n",
    "d[(1,2)] = 3"
   ]
  },
  {
   "cell_type": "code",
   "execution_count": 92,
   "id": "f886d55d-491d-4c0f-aa2c-d6b1bccc836f",
   "metadata": {},
   "outputs": [
    {
     "data": {
      "text/plain": [
       "-871183290662278430"
      ]
     },
     "execution_count": 92,
     "metadata": {},
     "output_type": "execute_result"
    }
   ],
   "source": [
    "hash('s')"
   ]
  },
  {
   "cell_type": "code",
   "execution_count": 93,
   "id": "1a016732-90e0-475f-8aa5-cf10fb12a3ca",
   "metadata": {},
   "outputs": [],
   "source": [
    "strings = [\"a\", \"as\", \"bat\", \"car\", \"dove\", \"python\"]"
   ]
  },
  {
   "cell_type": "code",
   "execution_count": 94,
   "id": "4e4fca8c-b9d1-4a09-a74f-977af95993a5",
   "metadata": {},
   "outputs": [
    {
     "data": {
      "text/plain": [
       "{'a': 0, 'as': 1, 'bat': 2, 'car': 3, 'dove': 4, 'python': 5}"
      ]
     },
     "execution_count": 94,
     "metadata": {},
     "output_type": "execute_result"
    }
   ],
   "source": [
    "loc_mapping = {value: index for index, value in enumerate(strings)}\n",
    "loc_mapping"
   ]
  },
  {
   "cell_type": "code",
   "execution_count": 96,
   "id": "d4078e38-39be-4752-abc2-68f4577100ec",
   "metadata": {},
   "outputs": [],
   "source": [
    "a = None"
   ]
  },
  {
   "cell_type": "code",
   "execution_count": 99,
   "id": "25a68324-013a-4caa-9023-fcec8024ef0a",
   "metadata": {},
   "outputs": [],
   "source": [
    "def bind_a_variable():\n",
    "    global a\n",
    "    a = 6\n",
    "bind_a_variable()"
   ]
  },
  {
   "cell_type": "code",
   "execution_count": 100,
   "id": "cc42d60d-fc43-43d2-b098-562f7d2c6095",
   "metadata": {},
   "outputs": [
    {
     "data": {
      "text/plain": [
       "6"
      ]
     },
     "execution_count": 100,
     "metadata": {},
     "output_type": "execute_result"
    }
   ],
   "source": [
    "a"
   ]
  },
  {
   "cell_type": "code",
   "execution_count": 101,
   "id": "a94a265f-c558-4295-ae5e-d984ec1d56e1",
   "metadata": {},
   "outputs": [],
   "source": [
    "def f():\n",
    "    a = 5\n",
    "    b = 6\n",
    "    c = 7\n",
    "    return a, b, c"
   ]
  },
  {
   "cell_type": "code",
   "execution_count": 103,
   "id": "893bad18-d4e4-4cc4-82f9-41b8991be479",
   "metadata": {},
   "outputs": [
    {
     "data": {
      "text/plain": [
       "(5, 6, 7)"
      ]
     },
     "execution_count": 103,
     "metadata": {},
     "output_type": "execute_result"
    }
   ],
   "source": [
    "return_value = f()\n",
    "return_value"
   ]
  },
  {
   "cell_type": "code",
   "execution_count": 105,
   "id": "2143ddf9-a38b-4202-99c8-024777c81aca",
   "metadata": {},
   "outputs": [],
   "source": [
    "states = [\"Alabama \", \"Georgia!\", \"Georgia\", \"georgia\", \"FlOrIda\", \n",
    "                   \"south  carolina##\", \"West virginia?\"]"
   ]
  },
  {
   "cell_type": "code",
   "execution_count": 108,
   "id": "55192b65-afc1-45bf-8bbd-24bc280a66c7",
   "metadata": {},
   "outputs": [],
   "source": [
    "import re\n",
    "\n",
    "def remove_punctuations(value):\n",
    "    return re.sub(\"[!#?]\", \"\", value)\n",
    "\n",
    "clean_ops = [str.strip, remove_punctuations, str.title]\n",
    "def clean_strings(strings, ops):\n",
    "    result = []\n",
    "    for value in strings:\n",
    "        for func in ops:\n",
    "            value = func(value)\n",
    "        result.append(value)\n",
    "    return result"
   ]
  },
  {
   "cell_type": "code",
   "execution_count": 109,
   "id": "597b91d9-6453-40b8-9267-672a3974708b",
   "metadata": {},
   "outputs": [
    {
     "data": {
      "text/plain": [
       "['Alabama',\n",
       " 'Georgia',\n",
       " 'Georgia',\n",
       " 'Georgia',\n",
       " 'Florida',\n",
       " 'South  Carolina',\n",
       " 'West Virginia']"
      ]
     },
     "execution_count": 109,
     "metadata": {},
     "output_type": "execute_result"
    }
   ],
   "source": [
    "clean_strings(states, clean_ops)"
   ]
  },
  {
   "cell_type": "code",
   "execution_count": 110,
   "id": "5d2bf300-a6f2-4816-846c-94e2fbeef5a5",
   "metadata": {},
   "outputs": [],
   "source": [
    "strings = [\"foo\", \"card\", \"bar\", \"aaaa\", \"abab\"]"
   ]
  },
  {
   "cell_type": "code",
   "execution_count": 115,
   "id": "98f56cb3-05f0-4912-b5b1-13cba3d85c02",
   "metadata": {},
   "outputs": [
    {
     "data": {
      "text/plain": [
       "['aaaa', 'foo', 'abab', 'bar', 'card']"
      ]
     },
     "execution_count": 115,
     "metadata": {},
     "output_type": "execute_result"
    }
   ],
   "source": [
    "strings.sort(key=lambda x: len(set(x)))\n",
    "strings"
   ]
  },
  {
   "cell_type": "code",
   "execution_count": 116,
   "id": "4f17cc15-5c53-4ed7-a564-38e857c7434e",
   "metadata": {},
   "outputs": [],
   "source": [
    "def squares(n=10):\n",
    "    print(f\"Generating squares from 1 to {n ** 2}\")\n",
    "    for i in range(1, n + 1):\n",
    "        yield i ** 2"
   ]
  },
  {
   "cell_type": "code",
   "execution_count": 124,
   "id": "ca0ccf3b-338c-4501-85fa-9c0a1850d4d8",
   "metadata": {},
   "outputs": [
    {
     "data": {
      "text/plain": [
       "<generator object squares at 0x7fad0eca6500>"
      ]
     },
     "execution_count": 124,
     "metadata": {},
     "output_type": "execute_result"
    }
   ],
   "source": [
    "gen = squares(20)\n",
    "gen"
   ]
  },
  {
   "cell_type": "code",
   "execution_count": 125,
   "id": "71fcdcf7-ea72-4fbb-9cf5-4b31a4bc2034",
   "metadata": {},
   "outputs": [
    {
     "name": "stdout",
     "output_type": "stream",
     "text": [
      "Generating squares from 1 to 400\n",
      "1 4 9 16 25 36 49 64 81 100 121 144 169 196 225 256 289 324 361 400 "
     ]
    }
   ],
   "source": [
    "for x in gen:\n",
    "    print(x, end=\" \")"
   ]
  },
  {
   "cell_type": "code",
   "execution_count": 130,
   "id": "7f53edac-6076-4e3e-ba68-833ed4ac4b7e",
   "metadata": {},
   "outputs": [
    {
     "data": {
      "text/plain": [
       "<itertools.combinations at 0x7fad0eb29120>"
      ]
     },
     "execution_count": 130,
     "metadata": {},
     "output_type": "execute_result"
    }
   ],
   "source": [
    "import itertools\n",
    "comb = itertools.combinations(range(4), 3)\n",
    "comb"
   ]
  },
  {
   "cell_type": "code",
   "execution_count": 135,
   "id": "621629bf-315a-4c8e-82db-496dc4852263",
   "metadata": {},
   "outputs": [],
   "source": [
    "import numpy as np"
   ]
  },
  {
   "cell_type": "code",
   "execution_count": 136,
   "id": "efaa12b9-c3e7-4472-a148-7c961f495667",
   "metadata": {},
   "outputs": [],
   "source": [
    "my_arr = np.arange(1_000_000)"
   ]
  },
  {
   "cell_type": "code",
   "execution_count": 140,
   "id": "1f17a003-99c6-49ec-86be-206ace24e281",
   "metadata": {},
   "outputs": [],
   "source": [
    "my_list = list(range(1_000_000))"
   ]
  },
  {
   "cell_type": "code",
   "execution_count": 138,
   "id": "9d891f85-eb88-4b8b-a6ae-819b71c31e3f",
   "metadata": {},
   "outputs": [
    {
     "name": "stdout",
     "output_type": "stream",
     "text": [
      "788 µs ± 29.2 µs per loop (mean ± std. dev. of 7 runs, 1,000 loops each)\n"
     ]
    }
   ],
   "source": [
    "%timeit my_arr2 = my_arr * 2"
   ]
  },
  {
   "cell_type": "code",
   "execution_count": 141,
   "id": "9fd89b43-5c17-4735-bcdb-a6dda48a229b",
   "metadata": {},
   "outputs": [
    {
     "name": "stdout",
     "output_type": "stream",
     "text": [
      "25.8 ms ± 315 µs per loop (mean ± std. dev. of 7 runs, 10 loops each)\n"
     ]
    }
   ],
   "source": [
    "%timeit my_list2 = [x * 2 for x in my_list]"
   ]
  },
  {
   "cell_type": "code",
   "execution_count": 142,
   "id": "595d18f8-3ece-4199-b699-2e6443863fc2",
   "metadata": {},
   "outputs": [],
   "source": [
    "data1 = [6, 7.5, 8, 0, 1]"
   ]
  },
  {
   "cell_type": "code",
   "execution_count": 143,
   "id": "f7bf94db-6b7b-4098-8d0e-2fee4f0ac136",
   "metadata": {},
   "outputs": [],
   "source": [
    "arr1 = np.array(data1)"
   ]
  },
  {
   "cell_type": "code",
   "execution_count": 144,
   "id": "6bcd9faa-f5b8-4dae-8c87-447cf7bba8b3",
   "metadata": {},
   "outputs": [
    {
     "data": {
      "text/plain": [
       "array([6. , 7.5, 8. , 0. , 1. ])"
      ]
     },
     "execution_count": 144,
     "metadata": {},
     "output_type": "execute_result"
    }
   ],
   "source": [
    "arr1"
   ]
  },
  {
   "cell_type": "code",
   "execution_count": 145,
   "id": "866b230d-c8fa-4881-8b72-889b9c4d2dc0",
   "metadata": {},
   "outputs": [],
   "source": [
    "data2 = [[1, 2, 3, 4], [5, 6, 7, 8]]"
   ]
  },
  {
   "cell_type": "code",
   "execution_count": 146,
   "id": "ca87c307-dce3-4532-8d70-2e10fbcf89ba",
   "metadata": {},
   "outputs": [],
   "source": [
    "arr2 = np.array(data2)"
   ]
  },
  {
   "cell_type": "code",
   "execution_count": 147,
   "id": "9218e0e0-cece-47ee-aae1-6ef43cf1b517",
   "metadata": {},
   "outputs": [
    {
     "data": {
      "text/plain": [
       "array([[1, 2, 3, 4],\n",
       "       [5, 6, 7, 8]])"
      ]
     },
     "execution_count": 147,
     "metadata": {},
     "output_type": "execute_result"
    }
   ],
   "source": [
    "arr2"
   ]
  },
  {
   "cell_type": "code",
   "execution_count": 148,
   "id": "d4698da8-8052-41c1-bade-e6efa57e9e22",
   "metadata": {},
   "outputs": [
    {
     "data": {
      "text/plain": [
       "2"
      ]
     },
     "execution_count": 148,
     "metadata": {},
     "output_type": "execute_result"
    }
   ],
   "source": [
    "arr2.ndim"
   ]
  },
  {
   "cell_type": "code",
   "execution_count": 149,
   "id": "4ee8dcc5-210e-4209-8e8f-4031fc0a1ac9",
   "metadata": {},
   "outputs": [
    {
     "data": {
      "text/plain": [
       "(2, 4)"
      ]
     },
     "execution_count": 149,
     "metadata": {},
     "output_type": "execute_result"
    }
   ],
   "source": [
    "arr2.shape"
   ]
  },
  {
   "cell_type": "code",
   "execution_count": 150,
   "id": "91c3c396-2371-4b7b-9ed5-443a4eab4cb3",
   "metadata": {},
   "outputs": [
    {
     "data": {
      "text/plain": [
       "dtype('float64')"
      ]
     },
     "execution_count": 150,
     "metadata": {},
     "output_type": "execute_result"
    }
   ],
   "source": [
    "arr1.dtype"
   ]
  },
  {
   "cell_type": "code",
   "execution_count": 152,
   "id": "1ca20789-1f07-4072-90c1-60f79f1583a4",
   "metadata": {},
   "outputs": [
    {
     "data": {
      "text/plain": [
       "array([[0., 0., 0., 0., 0., 0.],\n",
       "       [0., 0., 0., 0., 0., 0.],\n",
       "       [0., 0., 0., 0., 0., 0.]])"
      ]
     },
     "execution_count": 152,
     "metadata": {},
     "output_type": "execute_result"
    }
   ],
   "source": [
    "np.zeros((3,6))"
   ]
  },
  {
   "cell_type": "code",
   "execution_count": 153,
   "id": "29c6c4bb-8970-4cf8-bce4-a7c4fa6be2c5",
   "metadata": {},
   "outputs": [],
   "source": [
    "arr2d = np.array([[1, 2, 3], [4, 5, 6], [7, 8, 9]])"
   ]
  },
  {
   "cell_type": "code",
   "execution_count": 154,
   "id": "39fc8f2f-f985-4432-a37a-03eadc2466d4",
   "metadata": {},
   "outputs": [
    {
     "data": {
      "text/plain": [
       "array([[2, 3],\n",
       "       [5, 6]])"
      ]
     },
     "execution_count": 154,
     "metadata": {},
     "output_type": "execute_result"
    }
   ],
   "source": [
    "arr2d[:2, 1:]"
   ]
  },
  {
   "cell_type": "code",
   "execution_count": 155,
   "id": "75253690-e4d5-401d-aef9-cf58590d45e0",
   "metadata": {},
   "outputs": [],
   "source": [
    "rng = np.random.default_rng(seed=12345)"
   ]
  },
  {
   "cell_type": "code",
   "execution_count": 156,
   "id": "d682817a-a97b-497c-8aa0-7efb114a2901",
   "metadata": {},
   "outputs": [],
   "source": [
    "data = rng.standard_normal((2, 3))"
   ]
  },
  {
   "cell_type": "code",
   "execution_count": 157,
   "id": "96696556-3cea-4db9-b233-18d4e4a44a63",
   "metadata": {},
   "outputs": [
    {
     "data": {
      "text/plain": [
       "array([[-1.42382504,  1.26372846, -0.87066174],\n",
       "       [-0.25917323, -0.07534331, -0.74088465]])"
      ]
     },
     "execution_count": 157,
     "metadata": {},
     "output_type": "execute_result"
    }
   ],
   "source": [
    "data"
   ]
  },
  {
   "cell_type": "code",
   "execution_count": 1,
   "id": "ea7e2c53-d04a-4ed4-b84c-af5d8af10bf5",
   "metadata": {},
   "outputs": [
    {
     "name": "stdout",
     "output_type": "stream",
     "text": [
      "2\n"
     ]
    }
   ],
   "source": [
    "print(2)"
   ]
  },
  {
   "cell_type": "code",
   "execution_count": 6,
   "id": "9101f4fb",
   "metadata": {},
   "outputs": [],
   "source": [
    "import numpy as np\n",
    "\n",
    "\n",
    "\n",
    "def func_gen():\n",
    "    for i in np.arange(1000):\n",
    "        if i % 4 == 0:\n",
    "            yield i\n",
    "\n",
    "def func():\n",
    "    ls = []\n",
    "    for i in np.arange(1000):\n",
    "        if i % 4 == 0:\n",
    "            ls.append(i)\n",
    "    return ls\n"
   ]
  },
  {
   "cell_type": "code",
   "execution_count": 9,
   "id": "4001f8b0",
   "metadata": {},
   "outputs": [
    {
     "data": {
      "text/plain": [
       "[0,\n",
       " 4,\n",
       " 8,\n",
       " 12,\n",
       " 16,\n",
       " 20,\n",
       " 24,\n",
       " 28,\n",
       " 32,\n",
       " 36,\n",
       " 40,\n",
       " 44,\n",
       " 48,\n",
       " 52,\n",
       " 56,\n",
       " 60,\n",
       " 64,\n",
       " 68,\n",
       " 72,\n",
       " 76,\n",
       " 80,\n",
       " 84,\n",
       " 88,\n",
       " 92,\n",
       " 96,\n",
       " 100,\n",
       " 104,\n",
       " 108,\n",
       " 112,\n",
       " 116,\n",
       " 120,\n",
       " 124,\n",
       " 128,\n",
       " 132,\n",
       " 136,\n",
       " 140,\n",
       " 144,\n",
       " 148,\n",
       " 152,\n",
       " 156,\n",
       " 160,\n",
       " 164,\n",
       " 168,\n",
       " 172,\n",
       " 176,\n",
       " 180,\n",
       " 184,\n",
       " 188,\n",
       " 192,\n",
       " 196,\n",
       " 200,\n",
       " 204,\n",
       " 208,\n",
       " 212,\n",
       " 216,\n",
       " 220,\n",
       " 224,\n",
       " 228,\n",
       " 232,\n",
       " 236,\n",
       " 240,\n",
       " 244,\n",
       " 248,\n",
       " 252,\n",
       " 256,\n",
       " 260,\n",
       " 264,\n",
       " 268,\n",
       " 272,\n",
       " 276,\n",
       " 280,\n",
       " 284,\n",
       " 288,\n",
       " 292,\n",
       " 296,\n",
       " 300,\n",
       " 304,\n",
       " 308,\n",
       " 312,\n",
       " 316,\n",
       " 320,\n",
       " 324,\n",
       " 328,\n",
       " 332,\n",
       " 336,\n",
       " 340,\n",
       " 344,\n",
       " 348,\n",
       " 352,\n",
       " 356,\n",
       " 360,\n",
       " 364,\n",
       " 368,\n",
       " 372,\n",
       " 376,\n",
       " 380,\n",
       " 384,\n",
       " 388,\n",
       " 392,\n",
       " 396,\n",
       " 400,\n",
       " 404,\n",
       " 408,\n",
       " 412,\n",
       " 416,\n",
       " 420,\n",
       " 424,\n",
       " 428,\n",
       " 432,\n",
       " 436,\n",
       " 440,\n",
       " 444,\n",
       " 448,\n",
       " 452,\n",
       " 456,\n",
       " 460,\n",
       " 464,\n",
       " 468,\n",
       " 472,\n",
       " 476,\n",
       " 480,\n",
       " 484,\n",
       " 488,\n",
       " 492,\n",
       " 496,\n",
       " 500,\n",
       " 504,\n",
       " 508,\n",
       " 512,\n",
       " 516,\n",
       " 520,\n",
       " 524,\n",
       " 528,\n",
       " 532,\n",
       " 536,\n",
       " 540,\n",
       " 544,\n",
       " 548,\n",
       " 552,\n",
       " 556,\n",
       " 560,\n",
       " 564,\n",
       " 568,\n",
       " 572,\n",
       " 576,\n",
       " 580,\n",
       " 584,\n",
       " 588,\n",
       " 592,\n",
       " 596,\n",
       " 600,\n",
       " 604,\n",
       " 608,\n",
       " 612,\n",
       " 616,\n",
       " 620,\n",
       " 624,\n",
       " 628,\n",
       " 632,\n",
       " 636,\n",
       " 640,\n",
       " 644,\n",
       " 648,\n",
       " 652,\n",
       " 656,\n",
       " 660,\n",
       " 664,\n",
       " 668,\n",
       " 672,\n",
       " 676,\n",
       " 680,\n",
       " 684,\n",
       " 688,\n",
       " 692,\n",
       " 696,\n",
       " 700,\n",
       " 704,\n",
       " 708,\n",
       " 712,\n",
       " 716,\n",
       " 720,\n",
       " 724,\n",
       " 728,\n",
       " 732,\n",
       " 736,\n",
       " 740,\n",
       " 744,\n",
       " 748,\n",
       " 752,\n",
       " 756,\n",
       " 760,\n",
       " 764,\n",
       " 768,\n",
       " 772,\n",
       " 776,\n",
       " 780,\n",
       " 784,\n",
       " 788,\n",
       " 792,\n",
       " 796,\n",
       " 800,\n",
       " 804,\n",
       " 808,\n",
       " 812,\n",
       " 816,\n",
       " 820,\n",
       " 824,\n",
       " 828,\n",
       " 832,\n",
       " 836,\n",
       " 840,\n",
       " 844,\n",
       " 848,\n",
       " 852,\n",
       " 856,\n",
       " 860,\n",
       " 864,\n",
       " 868,\n",
       " 872,\n",
       " 876,\n",
       " 880,\n",
       " 884,\n",
       " 888,\n",
       " 892,\n",
       " 896,\n",
       " 900,\n",
       " 904,\n",
       " 908,\n",
       " 912,\n",
       " 916,\n",
       " 920,\n",
       " 924,\n",
       " 928,\n",
       " 932,\n",
       " 936,\n",
       " 940,\n",
       " 944,\n",
       " 948,\n",
       " 952,\n",
       " 956,\n",
       " 960,\n",
       " 964,\n",
       " 968,\n",
       " 972,\n",
       " 976,\n",
       " 980,\n",
       " 984,\n",
       " 988,\n",
       " 992,\n",
       " 996]"
      ]
     },
     "execution_count": 9,
     "metadata": {},
     "output_type": "execute_result"
    }
   ],
   "source": [
    "func() # memory intensive if called multiple times"
   ]
  },
  {
   "cell_type": "code",
   "execution_count": 11,
   "id": "8bcc5a44",
   "metadata": {},
   "outputs": [
    {
     "data": {
      "text/plain": [
       "[0,\n",
       " 4,\n",
       " 8,\n",
       " 12,\n",
       " 16,\n",
       " 20,\n",
       " 24,\n",
       " 28,\n",
       " 32,\n",
       " 36,\n",
       " 40,\n",
       " 44,\n",
       " 48,\n",
       " 52,\n",
       " 56,\n",
       " 60,\n",
       " 64,\n",
       " 68,\n",
       " 72,\n",
       " 76,\n",
       " 80,\n",
       " 84,\n",
       " 88,\n",
       " 92,\n",
       " 96,\n",
       " 100,\n",
       " 104,\n",
       " 108,\n",
       " 112,\n",
       " 116,\n",
       " 120,\n",
       " 124,\n",
       " 128,\n",
       " 132,\n",
       " 136,\n",
       " 140,\n",
       " 144,\n",
       " 148,\n",
       " 152,\n",
       " 156,\n",
       " 160,\n",
       " 164,\n",
       " 168,\n",
       " 172,\n",
       " 176,\n",
       " 180,\n",
       " 184,\n",
       " 188,\n",
       " 192,\n",
       " 196,\n",
       " 200,\n",
       " 204,\n",
       " 208,\n",
       " 212,\n",
       " 216,\n",
       " 220,\n",
       " 224,\n",
       " 228,\n",
       " 232,\n",
       " 236,\n",
       " 240,\n",
       " 244,\n",
       " 248,\n",
       " 252,\n",
       " 256,\n",
       " 260,\n",
       " 264,\n",
       " 268,\n",
       " 272,\n",
       " 276,\n",
       " 280,\n",
       " 284,\n",
       " 288,\n",
       " 292,\n",
       " 296,\n",
       " 300,\n",
       " 304,\n",
       " 308,\n",
       " 312,\n",
       " 316,\n",
       " 320,\n",
       " 324,\n",
       " 328,\n",
       " 332,\n",
       " 336,\n",
       " 340,\n",
       " 344,\n",
       " 348,\n",
       " 352,\n",
       " 356,\n",
       " 360,\n",
       " 364,\n",
       " 368,\n",
       " 372,\n",
       " 376,\n",
       " 380,\n",
       " 384,\n",
       " 388,\n",
       " 392,\n",
       " 396,\n",
       " 400,\n",
       " 404,\n",
       " 408,\n",
       " 412,\n",
       " 416,\n",
       " 420,\n",
       " 424,\n",
       " 428,\n",
       " 432,\n",
       " 436,\n",
       " 440,\n",
       " 444,\n",
       " 448,\n",
       " 452,\n",
       " 456,\n",
       " 460,\n",
       " 464,\n",
       " 468,\n",
       " 472,\n",
       " 476,\n",
       " 480,\n",
       " 484,\n",
       " 488,\n",
       " 492,\n",
       " 496,\n",
       " 500,\n",
       " 504,\n",
       " 508,\n",
       " 512,\n",
       " 516,\n",
       " 520,\n",
       " 524,\n",
       " 528,\n",
       " 532,\n",
       " 536,\n",
       " 540,\n",
       " 544,\n",
       " 548,\n",
       " 552,\n",
       " 556,\n",
       " 560,\n",
       " 564,\n",
       " 568,\n",
       " 572,\n",
       " 576,\n",
       " 580,\n",
       " 584,\n",
       " 588,\n",
       " 592,\n",
       " 596,\n",
       " 600,\n",
       " 604,\n",
       " 608,\n",
       " 612,\n",
       " 616,\n",
       " 620,\n",
       " 624,\n",
       " 628,\n",
       " 632,\n",
       " 636,\n",
       " 640,\n",
       " 644,\n",
       " 648,\n",
       " 652,\n",
       " 656,\n",
       " 660,\n",
       " 664,\n",
       " 668,\n",
       " 672,\n",
       " 676,\n",
       " 680,\n",
       " 684,\n",
       " 688,\n",
       " 692,\n",
       " 696,\n",
       " 700,\n",
       " 704,\n",
       " 708,\n",
       " 712,\n",
       " 716,\n",
       " 720,\n",
       " 724,\n",
       " 728,\n",
       " 732,\n",
       " 736,\n",
       " 740,\n",
       " 744,\n",
       " 748,\n",
       " 752,\n",
       " 756,\n",
       " 760,\n",
       " 764,\n",
       " 768,\n",
       " 772,\n",
       " 776,\n",
       " 780,\n",
       " 784,\n",
       " 788,\n",
       " 792,\n",
       " 796,\n",
       " 800,\n",
       " 804,\n",
       " 808,\n",
       " 812,\n",
       " 816,\n",
       " 820,\n",
       " 824,\n",
       " 828,\n",
       " 832,\n",
       " 836,\n",
       " 840,\n",
       " 844,\n",
       " 848,\n",
       " 852,\n",
       " 856,\n",
       " 860,\n",
       " 864,\n",
       " 868,\n",
       " 872,\n",
       " 876,\n",
       " 880,\n",
       " 884,\n",
       " 888,\n",
       " 892,\n",
       " 896,\n",
       " 900,\n",
       " 904,\n",
       " 908,\n",
       " 912,\n",
       " 916,\n",
       " 920,\n",
       " 924,\n",
       " 928,\n",
       " 932,\n",
       " 936,\n",
       " 940,\n",
       " 944,\n",
       " 948,\n",
       " 952,\n",
       " 956,\n",
       " 960,\n",
       " 964,\n",
       " 968,\n",
       " 972,\n",
       " 976,\n",
       " 980,\n",
       " 984,\n",
       " 988,\n",
       " 992,\n",
       " 996]"
      ]
     },
     "execution_count": 11,
     "metadata": {},
     "output_type": "execute_result"
    }
   ],
   "source": [
    "list(func_gen()) # memory efficient"
   ]
  },
  {
   "cell_type": "code",
   "execution_count": null,
   "id": "a71b23b2",
   "metadata": {},
   "outputs": [],
   "source": []
  }
 ],
 "metadata": {
  "kernelspec": {
   "display_name": "Python 3 (ipykernel)",
   "language": "python",
   "name": "python3"
  },
  "language_info": {
   "codemirror_mode": {
    "name": "ipython",
    "version": 3
   },
   "file_extension": ".py",
   "mimetype": "text/x-python",
   "name": "python",
   "nbconvert_exporter": "python",
   "pygments_lexer": "ipython3",
   "version": "3.11.5"
  }
 },
 "nbformat": 4,
 "nbformat_minor": 5
}
