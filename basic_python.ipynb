{
 "cells": [
  {
   "cell_type": "code",
   "execution_count": 1,
   "id": "d636dc19-caf6-4b3a-9e23-dbd9f878a1cd",
   "metadata": {},
   "outputs": [],
   "source": [
    "dictionary = {}"
   ]
  },
  {
   "cell_type": "code",
   "execution_count": 2,
   "id": "b7988313-6205-42e2-baf1-0af5583d30ee",
   "metadata": {},
   "outputs": [],
   "source": [
    "dictionary['key'] = 'value'"
   ]
  },
  {
   "cell_type": "code",
   "execution_count": 3,
   "id": "1f4b7d46-1a25-44e6-8e9b-2fcc88740ae8",
   "metadata": {},
   "outputs": [
    {
     "data": {
      "text/plain": [
       "{'key': 'value'}"
      ]
     },
     "execution_count": 3,
     "metadata": {},
     "output_type": "execute_result"
    }
   ],
   "source": [
    "dictionary"
   ]
  },
  {
   "cell_type": "code",
   "execution_count": 4,
   "id": "73164201-2bcb-42de-b890-d0b8fcdaadd8",
   "metadata": {},
   "outputs": [],
   "source": [
    "ls = [1,2,3,4]"
   ]
  },
  {
   "cell_type": "code",
   "execution_count": 5,
   "id": "a00681d6-d426-41c0-a956-a69b4498d7f2",
   "metadata": {},
   "outputs": [],
   "source": [
    "dictionary['ls'] = ls"
   ]
  },
  {
   "cell_type": "code",
   "execution_count": 6,
   "id": "cdce1607-7b6d-49b2-b5c6-751adb3c2a5f",
   "metadata": {},
   "outputs": [],
   "source": [
    "dictionary.update({'ls': ls})"
   ]
  },
  {
   "cell_type": "code",
   "execution_count": 8,
   "id": "e28ba512-f64e-4571-be0f-8920b0944a09",
   "metadata": {},
   "outputs": [
    {
     "data": {
      "text/plain": [
       "{'key': 'value', 'ls': [1, 2, 3, 4]}"
      ]
     },
     "execution_count": 8,
     "metadata": {},
     "output_type": "execute_result"
    }
   ],
   "source": [
    "dictionary"
   ]
  },
  {
   "cell_type": "code",
   "execution_count": 9,
   "id": "9b9206fa-faa7-4095-b08e-ae0486599166",
   "metadata": {},
   "outputs": [],
   "source": [
    "ls.append(5)"
   ]
  },
  {
   "cell_type": "code",
   "execution_count": 10,
   "id": "640989dd-076d-4ead-b2b2-df6111c6e7a3",
   "metadata": {},
   "outputs": [
    {
     "data": {
      "text/plain": [
       "[1, 2, 3, 4, 5]"
      ]
     },
     "execution_count": 10,
     "metadata": {},
     "output_type": "execute_result"
    }
   ],
   "source": [
    "ls"
   ]
  },
  {
   "cell_type": "code",
   "execution_count": 11,
   "id": "3eac6dfa-19c9-46aa-a228-258dadc4cd57",
   "metadata": {},
   "outputs": [
    {
     "data": {
      "text/plain": [
       "{'key': 'value', 'ls': [1, 2, 3, 4, 5]}"
      ]
     },
     "execution_count": 11,
     "metadata": {},
     "output_type": "execute_result"
    }
   ],
   "source": [
    "dictionary"
   ]
  },
  {
   "cell_type": "code",
   "execution_count": 12,
   "id": "0f3aab19-b5d7-40cf-9509-82046ebf788c",
   "metadata": {},
   "outputs": [],
   "source": [
    "from copy import deepcopy"
   ]
  },
  {
   "cell_type": "code",
   "execution_count": 13,
   "id": "970231ad-8f9e-4657-b3e2-0d1d7453a19b",
   "metadata": {},
   "outputs": [],
   "source": [
    "dictionary.update({'ls': deepcopy(ls)})"
   ]
  },
  {
   "cell_type": "code",
   "execution_count": 15,
   "id": "753c1e62-9078-4bff-b9f5-bec6113eb948",
   "metadata": {},
   "outputs": [
    {
     "data": {
      "text/plain": [
       "{'key': 'value', 'ls': [1, 2, 3, 4, 5]}"
      ]
     },
     "execution_count": 15,
     "metadata": {},
     "output_type": "execute_result"
    }
   ],
   "source": [
    "dictionary"
   ]
  },
  {
   "cell_type": "code",
   "execution_count": 16,
   "id": "143065fb-37b5-4355-8dc1-6e23d1a61667",
   "metadata": {},
   "outputs": [],
   "source": [
    "ls.append(6)"
   ]
  },
  {
   "cell_type": "code",
   "execution_count": 17,
   "id": "81d1d93c-d9b1-423c-9721-032567e69ba4",
   "metadata": {},
   "outputs": [
    {
     "data": {
      "text/plain": [
       "[1, 2, 3, 4, 5, 6]"
      ]
     },
     "execution_count": 17,
     "metadata": {},
     "output_type": "execute_result"
    }
   ],
   "source": [
    "ls"
   ]
  },
  {
   "cell_type": "code",
   "execution_count": 18,
   "id": "69475275-0279-4a8a-9861-4c766822e02d",
   "metadata": {},
   "outputs": [
    {
     "data": {
      "text/plain": [
       "{'key': 'value', 'ls': [1, 2, 3, 4, 5]}"
      ]
     },
     "execution_count": 18,
     "metadata": {},
     "output_type": "execute_result"
    }
   ],
   "source": [
    "dictionary"
   ]
  },
  {
   "cell_type": "code",
   "execution_count": 19,
   "id": "8a84e96d-36bd-4ee2-8376-04dbf643dec8",
   "metadata": {},
   "outputs": [
    {
     "data": {
      "text/plain": [
       "[1, 2, 3, 4, 5]"
      ]
     },
     "execution_count": 19,
     "metadata": {},
     "output_type": "execute_result"
    }
   ],
   "source": [
    "dictionary.setdefault('ls', [])"
   ]
  },
  {
   "cell_type": "code",
   "execution_count": 20,
   "id": "4e9c557a-d254-4744-b8af-57ba8ab875ec",
   "metadata": {},
   "outputs": [
    {
     "data": {
      "text/plain": [
       "{'key': 'value', 'ls': [1, 2, 3, 4, 5]}"
      ]
     },
     "execution_count": 20,
     "metadata": {},
     "output_type": "execute_result"
    }
   ],
   "source": [
    "dictionary"
   ]
  },
  {
   "cell_type": "code",
   "execution_count": 21,
   "id": "bb85f7c5-69e1-4ba1-8943-ab7024bba600",
   "metadata": {},
   "outputs": [
    {
     "data": {
      "text/plain": [
       "{'a': {'b': 'c'}}"
      ]
     },
     "execution_count": 21,
     "metadata": {},
     "output_type": "execute_result"
    }
   ],
   "source": [
    "{\n",
    "    'a': {\n",
    "        'b': 'c'\n",
    "    }\n",
    "}"
   ]
  },
  {
   "cell_type": "code",
   "execution_count": 22,
   "id": "62892968-79c1-4d97-b69a-408cedbe62e6",
   "metadata": {},
   "outputs": [
    {
     "data": {
      "text/plain": [
       "'c'"
      ]
     },
     "execution_count": 22,
     "metadata": {},
     "output_type": "execute_result"
    }
   ],
   "source": [
    "dictionary.setdefault('a', {}).setdefault('b', 'c')"
   ]
  },
  {
   "cell_type": "code",
   "execution_count": 23,
   "id": "d6b0883b-371f-418b-8022-02cdf45ad83a",
   "metadata": {},
   "outputs": [
    {
     "data": {
      "text/plain": [
       "{'key': 'value', 'ls': [1, 2, 3, 4, 5], 'a': {'b': 'c'}}"
      ]
     },
     "execution_count": 23,
     "metadata": {},
     "output_type": "execute_result"
    }
   ],
   "source": [
    "dictionary"
   ]
  },
  {
   "cell_type": "code",
   "execution_count": 24,
   "id": "1691ac0a-0e1a-4eec-a17c-24eb1ae00aca",
   "metadata": {},
   "outputs": [],
   "source": [
    "def setdefault(d, k, v):\n",
    "    if k in d:\n",
    "        return d\n",
    "    d[k] = v\n",
    "    return d"
   ]
  },
  {
   "cell_type": "code",
   "execution_count": 25,
   "id": "ee80deb2-ea16-41b8-a384-d487e20c30b5",
   "metadata": {},
   "outputs": [
    {
     "data": {
      "text/plain": [
       "dict_items([('key', 'value'), ('ls', [1, 2, 3, 4, 5]), ('a', {'b': 'c'})])"
      ]
     },
     "execution_count": 25,
     "metadata": {},
     "output_type": "execute_result"
    }
   ],
   "source": [
    "dictionary.items()"
   ]
  },
  {
   "cell_type": "code",
   "execution_count": 26,
   "id": "f8b86b1f-e57a-4846-82c4-634e4b29717e",
   "metadata": {},
   "outputs": [
    {
     "data": {
      "text/plain": [
       "dict_keys(['key', 'ls', 'a'])"
      ]
     },
     "execution_count": 26,
     "metadata": {},
     "output_type": "execute_result"
    }
   ],
   "source": [
    "dictionary.keys()"
   ]
  },
  {
   "cell_type": "code",
   "execution_count": 27,
   "id": "20cef179-735f-4b83-99d6-78cf2dc1324c",
   "metadata": {},
   "outputs": [
    {
     "data": {
      "text/plain": [
       "dict_values(['value', [1, 2, 3, 4, 5], {'b': 'c'}])"
      ]
     },
     "execution_count": 27,
     "metadata": {},
     "output_type": "execute_result"
    }
   ],
   "source": [
    "dictionary.values()"
   ]
  },
  {
   "cell_type": "code",
   "execution_count": 28,
   "id": "ac941dc3-f762-4983-a67a-4ac62dabd0ec",
   "metadata": {},
   "outputs": [
    {
     "data": {
      "text/plain": [
       "{'key': 'value', 'ls': [1, 2, 3, 4, 5], 'a': {'b': 'c'}}"
      ]
     },
     "execution_count": 28,
     "metadata": {},
     "output_type": "execute_result"
    }
   ],
   "source": [
    "dictionary"
   ]
  },
  {
   "cell_type": "code",
   "execution_count": 33,
   "id": "027dabc7-27be-4412-a8c7-c255b00a3df6",
   "metadata": {},
   "outputs": [],
   "source": [
    "value = dictionary.pop('key', None)"
   ]
  },
  {
   "cell_type": "code",
   "execution_count": 34,
   "id": "0d831e33-d424-4219-92a5-a86f44ed6179",
   "metadata": {},
   "outputs": [],
   "source": [
    "value"
   ]
  },
  {
   "cell_type": "code",
   "execution_count": 36,
   "id": "c6fe7e83-eb9a-4167-aeb3-198103f904ea",
   "metadata": {},
   "outputs": [
    {
     "data": {
      "text/plain": [
       "['ls', 'a']"
      ]
     },
     "execution_count": 36,
     "metadata": {},
     "output_type": "execute_result"
    }
   ],
   "source": [
    "list(dictionary.keys())"
   ]
  },
  {
   "cell_type": "code",
   "execution_count": 37,
   "id": "156e1431-49aa-4417-aabc-c5f5c4ee9574",
   "metadata": {},
   "outputs": [],
   "source": [
    "nd = {'key': 'shubham'}"
   ]
  },
  {
   "cell_type": "code",
   "execution_count": 38,
   "id": "ed9d9d27-9b90-4297-93db-b0f2f210459c",
   "metadata": {},
   "outputs": [
    {
     "data": {
      "text/plain": [
       "{'key': 'shubham'}"
      ]
     },
     "execution_count": 38,
     "metadata": {},
     "output_type": "execute_result"
    }
   ],
   "source": [
    "nd"
   ]
  },
  {
   "cell_type": "code",
   "execution_count": 39,
   "id": "766936fd-0f17-426d-9fc2-d6e61872c317",
   "metadata": {},
   "outputs": [],
   "source": [
    "d = {**dictionary, **nd}"
   ]
  },
  {
   "cell_type": "code",
   "execution_count": 40,
   "id": "b1a73d57-2444-4ac4-8c64-732bc9e3a8e2",
   "metadata": {},
   "outputs": [
    {
     "data": {
      "text/plain": [
       "{'ls': [1, 2, 3, 4, 5], 'a': {'b': 'c'}, 'key': 'shubham'}"
      ]
     },
     "execution_count": 40,
     "metadata": {},
     "output_type": "execute_result"
    }
   ],
   "source": [
    "d"
   ]
  },
  {
   "cell_type": "code",
   "execution_count": null,
   "id": "3b3686a8-ab61-430b-8995-4ede48ea9e6b",
   "metadata": {},
   "outputs": [],
   "source": []
  }
 ],
 "metadata": {
  "kernelspec": {
   "display_name": "Python 3 (ipykernel)",
   "language": "python",
   "name": "python3"
  },
  "language_info": {
   "codemirror_mode": {
    "name": "ipython",
    "version": 3
   },
   "file_extension": ".py",
   "mimetype": "text/x-python",
   "name": "python",
   "nbconvert_exporter": "python",
   "pygments_lexer": "ipython3",
   "version": "3.11.5"
  }
 },
 "nbformat": 4,
 "nbformat_minor": 5
}
